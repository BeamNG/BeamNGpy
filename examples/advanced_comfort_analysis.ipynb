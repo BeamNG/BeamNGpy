{
 "cells": [
  {
   "cell_type": "markdown",
   "metadata": {},
   "source": [
    "# Advanced Driver Comfort Analysis\n",
    "*BeamNG.tech only*\n",
    "\n",
    "## Introduction\n",
    "\n",
    "This example will demonstrate how to use the tri-axial IMU sensor to do a simple analysis for driver comfort while driving. An IMU contains a tri-axial accelerometer; a sensor that measures linear acceleration in the local coordinate system of the sensor. BeamNGpy provides a simulated version of such a sensor that can be placed in or on the vehicle, or at a point in space relative to the vehicle (as if it was attached to the vehicle by some rigid rod, even although this would be invisible). The readings from the IMU are smoothed against previous readings in order to remove some high-frequency noise from the data. Contrary to real accelerometer data, BeamNG's are completely size and weightless, meaning they have no effect on the behaviour of the vehicle and an arbitrary amount of them can be added.\n",
    "\n",
    "## Scenario \n",
    "\n",
    "Our scenario contains two vehicles that are tasked with driving to a certain waypoint on the map using BeamNG's AI. The AI will be given different speed levels and aggression values. Both vehicles are equipped with an IMU placed at the headrest of the driver's seat, providing regular acceleration measurements over a time interval. After both vehicles arrive at their destination, the data measured for both will be plotted for comparison.\n",
    "\n",
    "## Setup\n",
    "\n",
    "Setting up the environment starts with importing the required classes, mainly:\n",
    "\n",
    "* `BeamNGpy`: The backbone of the library used to manage BeamNG and communicate with the running simulation\n",
    "* `Scenario`: A class representing the scenario we set up. It will contain information about which level to load and vehicles contained in the scenario.\n",
    "* `Vehicle`: Each of our vehicles will be an instance of this class. It is used to represent and communicate with a vehicle in the simulation.\n",
    "* `AdvancedIMU`: The class implementing an advanced IMU sensor (the focus of this example). Each vehicle will have an instance of this to gather measurements.\n",
    "\n",
    "Instances of these classes are compiled into one scenario that will then be loaded in the simulator.\n",
    "\n",
    "Additionally, some modules and classes related to later plotting are imported."
   ]
  },
  {
   "cell_type": "code",
   "execution_count": null,
   "metadata": {},
   "outputs": [],
   "source": [
    "%matplotlib inline\n",
    "\n",
    "import matplotlib.pyplot as plt\n",
    "import numpy as np\n",
    "import pandas as pd\n",
    "import seaborn as sns\n",
    "from time import sleep\n",
    "from beamngpy import BeamNGpy, Scenario, Vehicle\n",
    "from beamngpy.sensors import AdvancedIMU\n",
    "\n",
    "sns.set()  # Let seaborn apply better styling to all matplotlib graphs"
   ]
  },
  {
   "cell_type": "markdown",
   "metadata": {},
   "source": [
    "The actual scenario will be set up by instantiating the `Scenario` class with an instance set on `west_coast_usa` that we name \"driver_comfort\". Two instances of the `Vehicle` class will be created using the ETK800 model and given unique names for later reference."
   ]
  },
  {
   "cell_type": "code",
   "execution_count": null,
   "metadata": {},
   "outputs": [],
   "source": [
    "beamng = BeamNGpy('localhost', 64256)\n",
    "beamng.open()\n",
    "\n",
    "scenario = Scenario('west_coast_usa', 'driver_comfort')\n",
    "\n",
    "careful = Vehicle('careful', model='etk800', license='CAREFUL', color='Green')\n",
    "aggressive = Vehicle('aggressive', model='etk800', license='AGGRO', color='Red')"
   ]
  },
  {
   "cell_type": "markdown",
   "metadata": {},
   "source": [
    "We add the vehicles to our scenario and start the scenario. The locations they are placed were determined manually in the game's World Editor. The call to `scenario.make(beamng)` creates files necessary for the game to load our scenario during the simulation."
   ]
  },
  {
   "cell_type": "code",
   "execution_count": null,
   "metadata": {},
   "outputs": [],
   "source": [
    "scenario.add_vehicle(careful, pos=(-767.1, 402.8, 142.8), rot_quat=(0, 0, 0.027, 1))\n",
    "scenario.add_vehicle(aggressive, pos=(-770.1, 398.8, 142.8), rot_quat=(0, 0, 0.027, 1))\n",
    "\n",
    "scenario.make(beamng)\n",
    "beamng.scenario.load(scenario)\n",
    "beamng.settings.set_deterministic()\n",
    "beamng.settings.set_steps_per_second(60)\n",
    "beamng.scenario.start()"
   ]
  },
  {
   "cell_type": "markdown",
   "metadata": {},
   "source": [
    "With two vehicles instantiated we move on to creating IMU sensor objects. These objects are placed at locations *relative to the vehicle's origin* (or, vehicle space). This means an IMU placed at (0, 0, 0) is always at the vehicle's origin, regardless of its position in the world. Note that this is not exactly the center of mass of the vehicle. Accurate placement of the IMU can be done by looking at node positions in the game's vehicle editor to get reference values. For the creation of this example, the game was started manually and the location for IMUs was determined by looking at relative node positions close to the driver's headrest of the ETK800 vehicle."
   ]
  },
  {
   "cell_type": "code",
   "execution_count": null,
   "metadata": {},
   "outputs": [],
   "source": [
    "careful_accel = AdvancedIMU('careful_sensor', beamng, careful, pos=(0.73, 0.51, 0.8))\n",
    "aggressive_accel = AdvancedIMU('aggressive_sensor', beamng, aggressive, pos=(0.73, 0.51, 0.8))"
   ]
  },
  {
   "cell_type": "markdown",
   "metadata": {},
   "source": [
    "We further set up some lists which will contain dimension-wise measurement data for both vehicles. We also store the time-stamps."
   ]
  },
  {
   "cell_type": "code",
   "execution_count": null,
   "metadata": {},
   "outputs": [],
   "source": [
    "careful_data_x = []\n",
    "careful_data_y = []\n",
    "careful_data_z = []\n",
    "careful_data_t = []\n",
    "aggressive_data_x = []\n",
    "aggressive_data_y = []\n",
    "aggressive_data_z = []\n",
    "aggressive_data_t = []"
   ]
  },
  {
   "cell_type": "markdown",
   "metadata": {},
   "source": [
    "## Running\n",
    "\n",
    "After our scenario is loaded in the simulator, we start the scenario letting the aggressive vehicle drive to its destination first, using a high maximum speed and high aggression value. Afterwards, the careful vehicle is given the same destination but a lower speed limit and lower aggression value."
   ]
  },
  {
   "cell_type": "code",
   "execution_count": null,
   "metadata": {},
   "outputs": [],
   "source": [
    "aggressive.switch()  # Switches the game's focus to the aggressive vehicle. No effect besides making it easier to watch.\n",
    "\n",
    "aggressive.ai.set_waypoint('junction1_wp24')\n",
    "aggressive.ai.set_speed(50, mode='limit')\n",
    "aggressive.ai.set_aggression(1)\n",
    "sleep(5)  # A little pause before we start\n",
    "\n",
    "for t in range(0, 2000):\n",
    "    accel_data = aggressive_accel.poll()\n",
    "    for i in range(0, len(accel_data)):\n",
    "        aggressive_data_x.append(accel_data[i]['accSmooth'][0])                 # The reading in the IMU's local x-axis.\n",
    "        aggressive_data_y.append(accel_data[i]['accSmooth'][1])                 # The reading in the IMU's local y-axis.\n",
    "        aggressive_data_z.append(accel_data[i]['accSmooth'][2])                 # The reading in the IMU's local z-axis.\n",
    "        aggressive_data_t.append(accel_data[i]['time'])                         # The time stamp for this tri-axial reading.\n",
    "\n",
    "aggressive.ai.set_waypoint('tunnel_NE_A_1')  # Make it move away to make room for the careful car\n",
    "\n",
    "careful.switch()  # Switches the game's focus to the careful vehicle. No effect besides making it easier to watch.\n",
    "\n",
    "careful.ai.set_waypoint('junction1_wp24')\n",
    "careful.ai.set_speed(10, mode='limit')\n",
    "careful.ai.set_aggression(0.3)\n",
    "sleep(5)  # A little pause before we start\n",
    "\n",
    "for t in range(0, 2000):\n",
    "    accel_data = careful_accel.poll()\n",
    "    for i in range(0, len(accel_data)):\n",
    "        careful_data_x.append(accel_data[i]['accSmooth'][0])                 # The reading in the IMU's local x-axis.\n",
    "        careful_data_y.append(accel_data[i]['accSmooth'][1])                 # The reading in the IMU's local y-axis.\n",
    "        careful_data_z.append(accel_data[i]['accSmooth'][2])                 # The reading in the IMU's local z-axis.\n",
    "        careful_data_t.append(accel_data[i]['time'])                         # The time stamp for this tri-axial reading.\n",
    "\n",
    "careful_accel.remove()      # remove the IMU sensors from the vehicles.\n",
    "aggressive_accel.remove()\n",
    "beamng.close()              # Close beamng as all data was gathered"
   ]
  },
  {
   "cell_type": "markdown",
   "metadata": {},
   "source": [
    "## Plotting\n",
    "\n",
    "The acceleration data is now plotted above and below, for an easy comparison between the two vehicles. The top row of plots contain the linear acceleration measured for the aggresively-driven vehicle, for each local axis of the accelerometers coordinate system.  The bottom row of plots show the same for the carefully-driven vehicle."
   ]
  },
  {
   "cell_type": "code",
   "execution_count": null,
   "metadata": {},
   "outputs": [],
   "source": [
    "figure, ax = plt.subplots(2, 3, figsize=(15, 15), sharey=True)\n",
    "ax[0, 0].plot(aggressive_data_t, aggressive_data_x, 'b-')\n",
    "ax[0, 0].set_xlabel('t (s)')\n",
    "ax[0, 0].set_ylabel('accel (m/s^-2)')\n",
    "ax[0, 1].plot(aggressive_data_t, aggressive_data_y, 'b-')\n",
    "ax[0, 1].set_xlabel('t (s)')\n",
    "ax[0, 1].set_ylabel('accel (m/s^-2)')\n",
    "ax[0, 2].plot(aggressive_data_t, aggressive_data_z, 'b-')\n",
    "ax[0, 2].set_xlabel('t (s)')\n",
    "ax[0, 2].set_ylabel('accel (m/s^-2)')\n",
    "ax[1, 0].plot(careful_data_t, careful_data_x, 'b-')\n",
    "ax[1, 0].set_xlabel('t (s)')\n",
    "ax[1, 0].set_ylabel('accel (m/s^-2)')\n",
    "ax[1, 1].plot(careful_data_t, careful_data_x, 'b-')\n",
    "ax[1, 1].set_xlabel('t (s)')\n",
    "ax[1, 1].set_ylabel('accel (m/s^-2)')\n",
    "ax[1, 2].plot(careful_data_t, careful_data_x, 'b-')\n",
    "ax[1, 2].set_xlabel('t (s)')\n",
    "ax[1, 2].set_ylabel('accel (m/s^-2)')\n",
    "plt.show()"
   ]
  },
  {
   "cell_type": "code",
   "execution_count": null,
   "metadata": {},
   "outputs": [],
   "source": []
  }
 ],
 "metadata": {
  "kernelspec": {
   "display_name": "base",
   "language": "python",
   "name": "python3"
  },
  "language_info": {
   "codemirror_mode": {
    "name": "ipython",
    "version": 3
   },
   "file_extension": ".py",
   "mimetype": "text/x-python",
   "name": "python",
   "nbconvert_exporter": "python",
   "pygments_lexer": "ipython3",
   "version": "3.9.12"
  },
  "vscode": {
   "interpreter": {
    "hash": "cc0740e3bebae00b506c59fa865ecde91af0eb9ffcfbaa16d5372fd3cfa7b232"
   }
  }
 },
 "nbformat": 4,
 "nbformat_minor": 4
}

{
 "cells": [
  {
   "cell_type": "markdown",
   "metadata": {},
   "source": [
    "# Overview\n",
    "*BeamNG.tech / BeamNG.drive*\n",
    "\n",
    "This example shows the different ways of spawning vehicles and objects through the python interface.\n",
    "\n",
    "Although spawning has been touched in other examples, this one will show you how to use ScenarioObject to spawn any object class and how to spawn vehicles AFTER scenario creation. "
   ]
  },
  {
   "cell_type": "markdown",
   "metadata": {},
   "source": [
    "## Setup and Scenario Creation\n",
    "\n",
    "This quick example uses the Smallgrid level to show the spawning mechanics of the library.\n",
    "It creates a roadblock pre-grame using the ScenarioObject class. \n",
    "Available assets can be found in the 'vehicle' directory in the BeamNG game root directory."
   ]
  },
  {
   "cell_type": "code",
   "execution_count": 1,
   "metadata": {},
   "outputs": [],
   "source": [
    "from beamngpy import BeamNGpy, Scenario, ScenarioObject, Vehicle\n",
    "\n",
    "beamng = BeamNGpy('localhost', 64256)\n",
    "beamng.open()\n",
    "\n",
    "scenario = Scenario('smallgrid', 'spawn_objects_example')\n",
    "\n",
    "vehicle = Vehicle('ego_vehicle', model='pickup', license='PYTHON')\n",
    "scenario.add_vehicle(vehicle, pos=(0, 0, 0), rot_quat=(0, 0, 0, 1))\n",
    "\n",
    "scenario_obj = ScenarioObject(oid='roadblock', \n",
    "                              name='sawhorse',\n",
    "                              otype='BeamNGVehicle',\n",
    "                              pos=(0, -10, 0),\n",
    "                              rot_quat=(0, 0, 0, 1),\n",
    "                              scale=(1, 1, 1),\n",
    "                              JBeam='sawhorse',\n",
    "                              datablock='default_vehicle')\n",
    "scenario.add_object(scenario_obj)\n",
    "\n",
    "scenario.make(beamng)"
   ]
  },
  {
   "cell_type": "markdown",
   "metadata": {},
   "source": [
    "## Starting the game"
   ]
  },
  {
   "cell_type": "code",
   "execution_count": 2,
   "metadata": {},
   "outputs": [],
   "source": [
    "beamng.scenario.load(scenario)\n",
    "beamng.scenario.start()"
   ]
  },
  {
   "cell_type": "markdown",
   "metadata": {},
   "source": [
    "## In-game spawning\n",
    "\n",
    "Spawning objects in-game is simple, though this feature is restricted to the vehicle class. "
   ]
  },
  {
   "cell_type": "code",
   "execution_count": 3,
   "metadata": {},
   "outputs": [],
   "source": [
    "vehicle = Vehicle('ego_vehicle2', model='etk800', color='White', license='PYTHON2')\n",
    "scenario.add_vehicle(vehicle, pos=(0, -20, 0), rot_quat=(0, 1, 0, 0))"
   ]
  },
  {
   "cell_type": "code",
   "execution_count": null,
   "metadata": {},
   "outputs": [],
   "source": []
  }
 ],
 "metadata": {},
 "nbformat": 4,
 "nbformat_minor": 4
}

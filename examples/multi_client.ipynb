{
 "cells": [
  {
   "cell_type": "markdown",
   "id": "configured-sweden",
   "metadata": {},
   "source": [
    "# Multi-Client Example\n",
    "*BeamNG.tech / BeamNG.drive*\n",
    "\n",
    "## Introduction\n",
    "\n",
    "This example shows how to connect multiple `BeamNGpy` instances to the simulator and have them control different vehicles. For demonstration purposes, both instances are housed in the same Python process, but the same example could be used from an entirely different process or machine as well.\n",
    "\n",
    "## Scenario\n",
    "\n",
    "The scenario will be a rather simple one: there are two vehicles on the `smallgrid` map (an infinite flat plane) and one vehicle will randomly drive around, controlled by client A, with another vehicle, controlled by client B, mimicking A's behavior.\n",
    "\n",
    "## Setup\n",
    "\n",
    "Contrary to other examples, we will be using two instances of the `BeamNGpy` class representing two clients A and B. In our case, client A will create the scenario containing both vehicles, but client B will later connect and control one of the vehicles while A controls the other. The classes involved in this are:\n",
    "\n",
    "* `BeamNGpy`: Two instances of this will be used to implement client A and B\n",
    "* `Scenario`: Client A will create a scenario for both clients to play in\n",
    "* `Vehicle`: Used to specify and control vehicles involved in the scenario\n",
    "* `Electrics`: A sensor used to inspect interal systems of the vehicle\n",
    "\n",
    "The code starts with importing the respective classes:"
   ]
  },
  {
   "cell_type": "code",
   "execution_count": 1,
   "id": "aware-grammar",
   "metadata": {},
   "outputs": [],
   "source": [
    "import random\n",
    "\n",
    "from beamngpy import BeamNGpy, Scenario, Vehicle\n",
    "from beamngpy.sensors import Electrics"
   ]
  },
  {
   "cell_type": "markdown",
   "id": "tribal-arrival",
   "metadata": {},
   "source": [
    "Now we set up our first client who will create the scenario for both clients. Client A will also launch the simulator."
   ]
  },
  {
   "cell_type": "code",
   "execution_count": 2,
   "id": "crude-hampton",
   "metadata": {},
   "outputs": [
    {
     "data": {
      "text/plain": [
       "<beamngpy.beamng.BeamNGpy at 0x2854f90fa90>"
      ]
     },
     "execution_count": 2,
     "metadata": {},
     "output_type": "execute_result"
    }
   ],
   "source": [
    "client_a = BeamNGpy('localhost', 64256)\n",
    "client_a.open()"
   ]
  },
  {
   "cell_type": "markdown",
   "id": "solid-soundtrack",
   "metadata": {},
   "source": [
    "With the simulator running, we can start setting up our scenario. It will contain two vehicles, the one controlled by Client A being placed in front of the one later controlled by client B."
   ]
  },
  {
   "cell_type": "code",
   "execution_count": 3,
   "id": "operational-market",
   "metadata": {},
   "outputs": [],
   "source": [
    "scenario = Scenario('smallgrid', 'tag')\n",
    "av_a = Vehicle('vehicleA', model='etk800')\n",
    "av_b = Vehicle('vehicleB', model='etk800')\n",
    "scenario.add_vehicle(av_a, pos=(0, -10, 0))\n",
    "scenario.add_vehicle(av_b)\n",
    "scenario.make(client_a)"
   ]
  },
  {
   "cell_type": "markdown",
   "id": "global-intellectual",
   "metadata": {},
   "source": [
    "## Running\n",
    "\n",
    "The scenario is now made, meaning the required files have been generated and can be loaded in the simulator:"
   ]
  },
  {
   "cell_type": "code",
   "execution_count": 4,
   "id": "endangered-hampton",
   "metadata": {},
   "outputs": [],
   "source": [
    "client_a.load_scenario(scenario)\n",
    "client_a.start_scenario()"
   ]
  },
  {
   "cell_type": "markdown",
   "id": "smaller-spanish",
   "metadata": {},
   "source": [
    "Now we will set up our second client and connect it to the running simulator. The client will first connect, then query the running scenario, and retrieve currently active vehicles. They will then find the vehicle meant for Client B and connect to it. Note that `client_b` is opened with the flag `launch=False`meaning it will not launch its own BeamNG.tech process."
   ]
  },
  {
   "cell_type": "code",
   "execution_count": 5,
   "id": "secure-breakfast",
   "metadata": {},
   "outputs": [
    {
     "name": "stdout",
     "output_type": "stream",
     "text": [
      "tag\n"
     ]
    }
   ],
   "source": [
    "client_b = BeamNGpy('localhost', 64256)\n",
    "client_b.open(launch=False)\n",
    "running_scenario = client_b.get_current_scenario()\n",
    "print(running_scenario.name)\n",
    "active_vehicles = client_b.get_current_vehicles()\n",
    "bv_a = active_vehicles['vehicleA']\n",
    "bv_b = active_vehicles['vehicleB']\n",
    "# B attaches their own sensor to get the current controls of A\n",
    "bv_a.attach_sensor('electrics', Electrics())\n",
    "bv_a.connect(client_b)\n",
    "bv_b.connect(client_b)"
   ]
  },
  {
   "cell_type": "markdown",
   "id": "relevant-elevation",
   "metadata": {},
   "source": [
    "Two clients are now connected to the running simulation and both vehicles. What follows is the main loop of the scenario, where Client A sends random steering inputs to their vehicle and Client B checks how A's vehicle is driving using the electrics sensor and sends the same inputs to their vehicle."
   ]
  },
  {
   "cell_type": "code",
   "execution_count": 6,
   "id": "quick-stuff",
   "metadata": {},
   "outputs": [
    {
     "name": "stdout",
     "output_type": "stream",
     "text": [
      "0.7577024890931076 -0.029248118614031222\n",
      "0.41466409511715085 -0.6133109369707077\n",
      "0.6612916857332573 0.7583303629890917\n",
      "0.7297772057663137 -0.09513516033971536\n",
      "0.4971688804966732 -0.3535049334656909\n",
      "0.815687162804359 0.19232261777649018\n",
      "0.5468545547028463 -0.1681908719065344\n",
      "0.18177021312567299 -0.8860084429572372\n",
      "0.7972282046989743 0.6561286825906633\n",
      "0.9244512533033096 0.8401853896253498\n",
      "0.9297621871157442 0.480516448173214\n",
      "0.7268450870950331 0.4628886928545947\n",
      "0.05240987322725532 -0.24389971202574562\n",
      "0.06647287793522028 -0.09850204721673225\n",
      "0.89240753173758 0.7633874594184644\n",
      "0.22430070428904925 -0.5108735598848688\n",
      "0.9514956002747675 0.3363851117363099\n",
      "0.8950055623685286 0.8726946354699725\n",
      "0.8547668591694162 0.02054363416370171\n",
      "0.2528524505451656 0.22841815749675592\n",
      "0.46332827386756315 0.3021335200854024\n",
      "0.44573713232987433 -0.8422713505738366\n",
      "0.22223019808146538 -0.6579719552737314\n",
      "0.7933353969372042 0.6012680472427994\n",
      "0.6167286727885309 -0.7458466561741002\n",
      "0.4106512930647186 -0.050597934226450064\n",
      "0.4524011639750877 -0.2550997919035711\n",
      "0.3597168937226428 0.20070026161288745\n",
      "0.21396863964275592 -0.22339601448573368\n",
      "0.6941529226426374 -0.8114367760901913\n",
      "0.15940105574574426 0.029401484718252272\n",
      "0.8384636683423344 0.30392054170037847\n",
      "0.9498410975505813 -0.4723247575818863\n",
      "0.26009502059503287 -0.6969291432851232\n",
      "0.9557557506497543 -0.6694068630510998\n",
      "0.633171180384871 -0.6260011551516667\n",
      "0.47499789031083295 0.14447105466410728\n",
      "0.9199287045179665 0.022311940762670467\n",
      "0.05060485284717409 0.4805436374705124\n",
      "0.1273511873231894 -0.2538974399666483\n",
      "0.9618382039412894 -0.03947489875331808\n",
      "0.978534355596695 0.1022374294579133\n",
      "0.714473158224444 -0.3974740662556633\n",
      "0.07267226290842643 0.1059773067980679\n",
      "0.36038604105631833 0.669712542670179\n",
      "0.21732238379713553 0.753452331984231\n",
      "0.635952308005819 0.12907697614952487\n",
      "0.7635865401340791 -0.8896174057300061\n",
      "0.07712348122441914 0.7198356465665035\n",
      "0.8851766404587988 -0.2365539767766929\n",
      "0.3377560174460619 -0.8963643139865585\n",
      "0.5497620177456032 -0.33475398558686836\n",
      "0.4680024559836553 0.2985971160970207\n",
      "0.3416535908083883 0.3442582444348473\n",
      "0.9797859126801872 0.7572040929075301\n",
      "0.7317635145730219 -0.6314293102289773\n",
      "0.4766615633777421 -0.7821092334558366\n",
      "0.6519954158892445 -0.08606825600450392\n",
      "0.31139588790998207 -0.120805191296581\n",
      "0.6204990793360907 0.030239792064166576\n",
      "0.08333173619202805 0.36087890667840244\n",
      "0.656184451709372 0.015335641122116606\n",
      "0.20714869890834497 -0.14415331629506511\n",
      "0.9001771897264594 -0.5934852881162191\n",
      "0.5131768942322323 -0.3927460016816496\n",
      "0.46349874623880594 -0.6614657982223056\n",
      "0.9643830030042412 0.49585489809126415\n",
      "0.3556924572910857 0.4368614967902002\n",
      "0.7940527175052994 0.2887024176617969\n",
      "0.40729657597147384 -0.04742633978262277\n",
      "0.8608958704539303 -0.6772115151728245\n",
      "0.12332958048616582 0.08512454295304889\n",
      "0.7953334280394371 0.0011611596811772762\n",
      "0.38959482393334455 -0.7702936360791641\n",
      "0.19210438111298622 -0.9367331956528534\n",
      "0.2592557503590376 -0.7486160651505822\n",
      "0.877332688993183 -0.1940870552288715\n",
      "0.12369291384304248 0.8023625010652754\n",
      "0.6153061242884444 -0.021939901592079605\n",
      "0.9920225041343921 0.011917688850084934\n",
      "0.8257552319650476 0.41064488170746044\n",
      "0.47829838959204396 0.7473990941294251\n",
      "0.5237337945442399 -0.23060240895498285\n",
      "0.022965113411646754 0.5223154257329994\n",
      "0.8342809862748527 -0.14843681069364104\n",
      "0.5759412057916468 -0.2639810884933066\n",
      "0.07797662340551514 0.10644016565979153\n",
      "0.060652689771447554 0.7862927107246112\n",
      "0.812599806010891 -0.8993223387737227\n",
      "0.02424264731635628 0.04119269514970927\n",
      "0.40929273944818745 0.4826994518046709\n",
      "0.1300781673400333 0.8884070555735925\n",
      "0.7250732328086792 0.29484417905338434\n",
      "0.9267115902204928 0.8006061148759214\n",
      "0.6145969001907157 0.2542464564850529\n",
      "0.6766442899703229 0.6947535949127418\n",
      "0.8459523240416377 -0.04814253831916039\n",
      "0.8179553385168472 -0.39333677252727\n",
      "0.11615116253372004 0.5622018005594488\n",
      "0.8445671543493273 -0.012889604071561013\n",
      "0.002637426893387751 -0.8487686884887171\n",
      "0.45335896867188874 0.09315607785227921\n",
      "0.8763110712583492 0.8485361870053166\n",
      "0.2283006844019887 0.9317220449448019\n",
      "0.5352598042675111 0.842092601616879\n",
      "0.25093088816220066 0.48165865779866635\n",
      "0.6604300217881621 -0.4485679446987229\n",
      "0.6304919965781528 -0.8814308580000163\n",
      "0.28886083089627246 0.2714614517071435\n",
      "0.09913218069642948 -0.81259932913479\n",
      "0.2947873231239486 -0.6583279131061056\n",
      "0.3478671899707986 0.5828019231823615\n",
      "0.8648644668264884 0.13187021887955114\n",
      "0.24415784121444717 0.6450950597420464\n",
      "0.12752333336188115 0.15617744724710242\n",
      "0.7660628043190212 0.3070527042847202\n",
      "0.047764697794005384 0.5287405810597249\n",
      "0.2056650317959463 -0.5463509450609975\n",
      "0.47349475728823087 0.8794816941573168\n",
      "0.9442323001118041 -0.7560047391603559\n"
     ]
    }
   ],
   "source": [
    "# Focus simulator on second vehicle because it's the more interesting one to see\n",
    "client_a.switch_vehicle(av_b)\n",
    "\n",
    "for _ in range(120):\n",
    "    # Client A sending control inputs to their vehicle connection\n",
    "    av_a.control(throttle=random.random(), steering=(random.random() * 2 - 1))\n",
    "    \n",
    "    # Client B updating the electrics sensor of A's vehicle\n",
    "    bv_a.poll_sensors()\n",
    "    \n",
    "    throttle = bv_a.sensors['electrics'].data['throttle_input']\n",
    "    steering = bv_a.sensors['electrics'].data['steering_input']\n",
    "    print(throttle, steering)\n",
    "    bv_b.control(throttle=throttle, steering=steering)\n",
    "    \n",
    "    # Client A now advancing the simulation 60 steps\n",
    "    client_a.step(60)\n",
    "\n",
    "client_b.close()\n",
    "client_a.close()"
   ]
  }
 ],
 "metadata": {},
 "nbformat": 4,
 "nbformat_minor": 5
}

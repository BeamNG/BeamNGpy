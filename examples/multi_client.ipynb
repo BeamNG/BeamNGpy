{
 "cells": [
  {
   "cell_type": "markdown",
   "id": "configured-sweden",
   "metadata": {},
   "source": [
    "# Multi-Client Example\n",
    "*BeamNG.tech / BeamNG.drive*\n",
    "\n",
    "## Introduction\n",
    "\n",
    "This example shows how to connect multiple `BeamNGpy` instances to the simulator and have them control different vehicles. For demonstration purposes, both instances are housed in the same Python process, but the same example could be used from an entirely different process or machine as well.\n",
    "\n",
    "## Scenario\n",
    "\n",
    "The scenario will be a rather simple one: there are two vehicles on the `smallgrid` map (an infinite flat plane) and one vehicle will randomly drive around, controlled by client A, with another vehicle, controlled by client B, mimicking A's behavior.\n",
    "\n",
    "## Setup\n",
    "\n",
    "Contrary to other examples, we will be using two instances of the `BeamNGpy` class representing two clients A and B. In our case, client A will create the scenario containing both vehicles, but client B will later connect and control one of the vehicles while A controls the other. The classes involved in this are:\n",
    "\n",
    "* `BeamNGpy`: Two instances of this will be used to implement client A and B\n",
    "* `Scenario`: Client A will create a scenario for both clients to play in\n",
    "* `Vehicle`: Used to specify and control vehicles involved in the scenario\n",
    "* `Electrics`: A sensor used to inspect interal systems of the vehicle\n",
    "\n",
    "The code starts with importing the respective classes:"
   ]
  },
  {
   "cell_type": "code",
   "execution_count": 1,
   "id": "aware-grammar",
   "metadata": {},
   "outputs": [],
   "source": [
    "import random\n",
    "\n",
    "from beamngpy import BeamNGpy, Scenario, Vehicle\n",
    "from beamngpy.sensors import Electrics"
   ]
  },
  {
   "cell_type": "markdown",
   "id": "tribal-arrival",
   "metadata": {},
   "source": [
    "Now we set up our first client who will create the scenario for both clients. Client A will also launch the simulator."
   ]
  },
  {
   "cell_type": "code",
   "execution_count": 2,
   "id": "crude-hampton",
   "metadata": {},
   "outputs": [
    {
     "data": {
      "text/plain": [
       "<beamngpy.beamng.beamng.BeamNGpy at 0x1e5200d5af0>"
      ]
     },
     "execution_count": 2,
     "metadata": {},
     "output_type": "execute_result"
    }
   ],
   "source": [
    "client_a = BeamNGpy('localhost', 64256)\n",
    "client_a.open()"
   ]
  },
  {
   "cell_type": "markdown",
   "id": "solid-soundtrack",
   "metadata": {},
   "source": [
    "With the simulator running, we can start setting up our scenario. It will contain two vehicles, the one controlled by Client A being placed in front of the one later controlled by client B."
   ]
  },
  {
   "cell_type": "code",
   "execution_count": 3,
   "id": "operational-market",
   "metadata": {},
   "outputs": [],
   "source": [
    "scenario = Scenario('smallgrid', 'tag')\n",
    "av_a = Vehicle('vehicleA', model='etk800')\n",
    "av_b = Vehicle('vehicleB', model='etk800')\n",
    "scenario.add_vehicle(av_a, pos=(0, -10, 0))\n",
    "scenario.add_vehicle(av_b)\n",
    "scenario.make(client_a)"
   ]
  },
  {
   "cell_type": "markdown",
   "id": "global-intellectual",
   "metadata": {},
   "source": [
    "## Running\n",
    "\n",
    "The scenario is now made, meaning the required files have been generated and can be loaded in the simulator:"
   ]
  },
  {
   "cell_type": "code",
   "execution_count": 4,
   "id": "endangered-hampton",
   "metadata": {},
   "outputs": [],
   "source": [
    "client_a.scenario.load(scenario)\n",
    "client_a.scenario.start()"
   ]
  },
  {
   "cell_type": "markdown",
   "id": "smaller-spanish",
   "metadata": {},
   "source": [
    "Now we will set up our second client and connect it to the running simulator. The client will first connect, then query the running scenario, and retrieve currently active vehicles. They will then find the vehicle meant for Client B and connect to it. Note that `client_b` is opened with the flag `launch=False`meaning it will not launch its own BeamNG.tech process."
   ]
  },
  {
   "cell_type": "code",
   "execution_count": 5,
   "id": "secure-breakfast",
   "metadata": {},
   "outputs": [
    {
     "name": "stdout",
     "output_type": "stream",
     "text": [
      "tag\n"
     ]
    }
   ],
   "source": [
    "client_b = BeamNGpy('localhost', 64256)\n",
    "client_b.open(launch=False)\n",
    "running_scenario = client_b.scenario.get_current()\n",
    "print(running_scenario.name)\n",
    "active_vehicles = client_b.vehicles.get_current()\n",
    "bv_a = active_vehicles['vehicleA']\n",
    "bv_b = active_vehicles['vehicleB']\n",
    "# B attaches their own sensor to get the current controls of A\n",
    "bv_a.sensors.attach('electrics', Electrics())\n",
    "bv_a.connect(client_b)\n",
    "bv_b.connect(client_b)"
   ]
  },
  {
   "cell_type": "markdown",
   "id": "relevant-elevation",
   "metadata": {},
   "source": [
    "Two clients are now connected to the running simulation and both vehicles. What follows is the main loop of the scenario, where Client A sends random steering inputs to their vehicle and Client B checks how A's vehicle is driving using the electrics sensor and sends the same inputs to their vehicle."
   ]
  },
  {
   "cell_type": "code",
   "execution_count": 6,
   "id": "quick-stuff",
   "metadata": {},
   "outputs": [
    {
     "name": "stdout",
     "output_type": "stream",
     "text": [
      "0.9903552798732984 0.0561614481910334\n",
      "0.37976397142866436 0.5152420182206601\n",
      "0.8560437566064311 -0.3257185027727156\n",
      "0.6696437525074509 0.5493611922590201\n",
      "0.9156628563175278 -0.4430103829517375\n",
      "0.9995778632528568 -0.28015915216392884\n",
      "0.3641282530586958 0.27678702424977525\n",
      "0.47662356655729277 -0.29412420724321964\n",
      "0.8820322777695266 -0.1564247782230673\n",
      "0.2007077839919995 -0.22352367524525876\n",
      "0.7666620438170206 0.07661645227253353\n",
      "0.5653868727133815 -0.06521475058326348\n",
      "0.08736548992284598 -0.1529280373705123\n",
      "0.8383866829879824 0.17128047529829377\n",
      "0.9571386112800796 0.25183276732139354\n",
      "0.18650957060048134 -0.1436863960145695\n",
      "0.3787784585606455 -0.2766188613690152\n",
      "0.9497251983984342 -0.26270946356273733\n",
      "0.5483205382499797 0.21181323490602655\n",
      "0.6323031607101598 0.10818393481871133\n"
     ]
    }
   ],
   "source": [
    "# Focus simulator on second vehicle because it's the more interesting one to see\n",
    "av_b.focus()\n",
    "\n",
    "for _ in range(20):\n",
    "    # Client A sending control inputs to their vehicle connection\n",
    "    av_a.control(throttle=random.random(), steering=(random.random() * 2 - 1))\n",
    "    \n",
    "    # Client B updating the electrics sensor of A's vehicle\n",
    "    bv_a.sensors.poll()\n",
    "    \n",
    "    throttle = bv_a.sensors['electrics']['throttle_input']\n",
    "    steering = bv_a.sensors['electrics']['steering_input']\n",
    "    print(throttle, steering)\n",
    "    bv_b.control(throttle=throttle, steering=steering)\n",
    "    \n",
    "    # Client A now advancing the simulation 60 steps\n",
    "    client_a.control.step(60)\n",
    "\n",
    "client_b.disconnect()\n",
    "client_a.close()"
   ]
  },
  {
   "cell_type": "code",
   "execution_count": null,
   "id": "fab32005-601e-46d9-a60a-f35ed14e60fa",
   "metadata": {},
   "outputs": [],
   "source": []
  }
 ],
 "metadata": {},
 "nbformat": 4,
 "nbformat_minor": 5
}

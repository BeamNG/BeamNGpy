{
 "cells": [
  {
   "cell_type": "markdown",
   "metadata": {},
   "source": [
    "# Overview\n",
    "\n",
    "This tutorial shows you how the library interacts with custom mods. To do so we create a generic mod that runs code on the vehicle and game engine side.\n",
    "\n",
    "In this tutorial we differentiate between mod and lua module:\n",
    "\n",
    "mod - refers to a collection of files that change the behavior of the game (see the zip file)\n",
    "\n",
    "lua module - refers to a lua 'library' that has a global name containing a table \n",
    "\n",
    "\n",
    "## Setup\n",
    "\n",
    "These are the usual imports to create a simple scenario. As the point is to show the mod support, nothing is happening in the scenario. The mod only prints some text to the console, so take a look at the console or the log file you can find in the user path. Note that the console only flushes the last line to the log file if another console output line is generated."
   ]
  },
  {
   "cell_type": "code",
   "execution_count": 1,
   "metadata": {
    "tags": []
   },
   "outputs": [],
   "source": [
    "import os\n",
    "import platform\n",
    "import zipfile\n",
    "from pathlib import Path\n",
    "\n",
    "from beamngpy import BeamNGpy, Scenario, Vehicle, set_up_simple_logging"
   ]
  },
  {
   "cell_type": "code",
   "execution_count": 2,
   "metadata": {
    "tags": []
   },
   "outputs": [
    {
     "data": {
      "text/plain": [
       "<beamngpy.beamng.beamng.BeamNGpy at 0x17b919a9a60>"
      ]
     },
     "execution_count": 2,
     "metadata": {},
     "output_type": "execute_result"
    }
   ],
   "source": [
    "# open the simulator to find out the user path\n",
    "beamng = BeamNGpy(\"localhost\", 25252)\n",
    "beamng.open()"
   ]
  },
  {
   "cell_type": "code",
   "execution_count": 3,
   "metadata": {
    "tags": []
   },
   "outputs": [
    {
     "name": "stderr",
     "output_type": "stream",
     "text": [
      "2025-03-27 10:43:42,698 |INFO     |beamngpy                      |Started BeamNGpy logging.\n"
     ]
    }
   ],
   "source": [
    "set_up_simple_logging()\n",
    "\n",
    "scenario = Scenario(\"tech_ground\", \"On how to use custom mods\")\n",
    "\n",
    "etk = Vehicle(\n",
    "    \"ego_vehicle\", model=\"etk800\", license=\"AI\", extensions=[\"vehicleEngineCode\"]\n",
    ")\n",
    "scenario.add_vehicle(etk, pos=(0, 0, 0), rot_quat=(0, 0, 1, 0))\n",
    "\n",
    "pickup = Vehicle(\n",
    "    \"some_vehicle\", model=\"pickup\", license=\"AI\", extensions=[\"vehicleEngineCode\"]\n",
    ")\n",
    "scenario.add_vehicle(pickup, pos=(5, 0, 0), rot_quat=(0, 0, 1, 0))"
   ]
  },
  {
   "cell_type": "markdown",
   "metadata": {},
   "source": [
    "## Creating a Simple Mod\n",
    "\n",
    "Mods can be installed by creating a zip directory in the userfolder, with default location of `%localappdata%/BeamNG.tech/<VERSION>/mods`. They have to recreate the exact same file structure as you find in the game directory in `BeamNG.tech.vX.X.X.X/lua`.\n",
    "\n",
    "What happens here is that the two lua files in the BeamNGpy directory are zipped into a mod."
   ]
  },
  {
   "cell_type": "code",
   "execution_count": 4,
   "metadata": {
    "tags": []
   },
   "outputs": [],
   "source": [
    "# setting up mod\n",
    "myModPath = Path(beamng.user_with_version) / \"mods\" / \"genericresearchmod.zip\"\n",
    "myModPath.parent.mkdir(parents=True, exist_ok=True)\n",
    "\n",
    "geCode = \"gameEngineCode.lua\"\n",
    "zipGEpath = str(Path(\"lua\") / \"ge\" / \"extensions\" / \"util\" / geCode)\n",
    "veCode = \"vehicleEngineCode.lua\"\n",
    "zipVEpath = str(Path(\"lua\") / \"vehicle\" / \"extensions\" / veCode)\n",
    "localDir = Path(os.path.abspath(\".\"))\n",
    "\n",
    "with zipfile.ZipFile(str(myModPath), \"w\") as ziph:\n",
    "    ziph.write(localDir / geCode, arcname=zipGEpath)\n",
    "    ziph.write(localDir / veCode, arcname=zipVEpath)"
   ]
  },
  {
   "cell_type": "markdown",
   "metadata": {},
   "source": [
    "## Testing the mod\n",
    "\n",
    "To test the mod we start BeamNG.tech and give the python BeamNG class the location of the gameengine mod within the \"genericResearchMod.zip/lua/ge/extensions/\" directory. This is necessary to register the file as its own lua module within the game.\n",
    "\n",
    "After registration, it is available as util_gameEngineCode within the game - try typing `dump(util_gameEngineCode)` in the game's command prompt"
   ]
  },
  {
   "cell_type": "code",
   "execution_count": 5,
   "metadata": {
    "tags": []
   },
   "outputs": [
    {
     "name": "stderr",
     "output_type": "stream",
     "text": [
      "2025-03-27 10:43:47,030 |INFO     |beamngpy.BeamNGpy             |Successfully connected to BeamNG.tech.\n",
      "2025-03-27 10:43:47,031 |INFO     |beamngpy.BeamNGpy             |BeamNGpy successfully connected to existing BeamNG instance.\n"
     ]
    },
    {
     "data": {
      "text/plain": [
       "<beamngpy.beamng.beamng.BeamNGpy at 0x17b919a9a60>"
      ]
     },
     "execution_count": 5,
     "metadata": {},
     "output_type": "execute_result"
    }
   ],
   "source": [
    "beamng.disconnect()\n",
    "beamng.open(extensions=[\"util/gameEngineCode\"])"
   ]
  },
  {
   "cell_type": "code",
   "execution_count": 6,
   "metadata": {
    "tags": []
   },
   "outputs": [
    {
     "name": "stderr",
     "output_type": "stream",
     "text": [
      "2025-03-27 10:45:18,356 |INFO     |beamngpy.BeamNGpy             |Loaded map.\n",
      "2025-03-27 10:45:21,286 |INFO     |beamngpy.Vehicle              |Vehicle some_vehicle connected to simulation.\n",
      "2025-03-27 10:45:21,286 |INFO     |beamngpy.BeamNGpy             |Attempting to connect to vehicle some_vehicle\n",
      "2025-03-27 10:45:23,780 |INFO     |beamngpy.BeamNGpy             |Successfully connected to BeamNG.tech.\n",
      "2025-03-27 10:45:23,780 |INFO     |beamngpy.BeamNGpy             |Successfully connected to vehicle some_vehicle.\n",
      "2025-03-27 10:45:23,892 |INFO     |beamngpy.Vehicle              |Vehicle ego_vehicle connected to simulation.\n",
      "2025-03-27 10:45:23,892 |INFO     |beamngpy.BeamNGpy             |Attempting to connect to vehicle ego_vehicle\n",
      "2025-03-27 10:45:25,927 |INFO     |beamngpy.BeamNGpy             |Successfully connected to BeamNG.tech.\n",
      "2025-03-27 10:45:25,927 |INFO     |beamngpy.BeamNGpy             |Successfully connected to vehicle ego_vehicle.\n",
      "2025-03-27 10:45:25,930 |INFO     |beamngpy.Scenario             |Connected to scenario: On how to use custom mods\n",
      "2025-03-27 10:45:25,951 |INFO     |beamngpy.BeamNGpy             |Starting scenario.\n"
     ]
    }
   ],
   "source": [
    "scenario.make(beamng)\n",
    "beamng.scenario.load(scenario)\n",
    "beamng.scenario.start()"
   ]
  },
  {
   "cell_type": "markdown",
   "metadata": {},
   "source": [
    "## How to Call Lua Module Functions\n",
    "\n",
    "BeamNG.tech and BeamNGpy communicate via TCP sockets. \n",
    "Function parameters are send with the help of python dictionaries that are available as lua tables in the game. \n",
    "The mini mod from this tutorial follows the convention the BeamNGpy library established: Every value for the 'type' key helps identifying the appropriate handler, which for 'Foo' is expected to be 'handleFoo'.\n",
    "The `checkMessages` function in `lua/ge/extensions/tech/techCore.lua` and `lua/vehicle/extensions/tech/techCore.lua` checks whether a corresponding function is locally available and, if not, calls the `onSocketMessage` hook for every extension. \n",
    "\n",
    "## Data Transfer between BeamNGpy and BeamNG\n",
    "Any return value needs to be send with the help of the socket. See here an example on how to do it on the game engine side. The code for the vehicle side is the same, it just needs to be implemented in `lua/vehicle/extensions/tech/techCore.lua`."
   ]
  },
  {
   "cell_type": "code",
   "execution_count": 7,
   "metadata": {
    "tags": []
   },
   "outputs": [],
   "source": [
    "def callFoo(bng):\n",
    "    \"\"\"\n",
    "    Executes handleFoo defined in gameEngineCode.lua.\n",
    "    \"\"\"\n",
    "    data = dict(type=\"Foo\", someName=\"YourName\")\n",
    "    response = bng.connection.send(data)\n",
    "    response.ack(\"FooAck\")\n",
    "\n",
    "\n",
    "def callBar(veh):\n",
    "    \"\"\"\n",
    "    Executes handlebar defined in vehicleEngineCode.lua.\n",
    "    Here the code is executed in the VM of the etk800.\n",
    "    \"\"\"\n",
    "    data = dict(type=\"Bar\", text=\"lorem ipsum...\")\n",
    "    response = veh.connection.send(data)\n",
    "    response.ack(\"BarAck\")\n",
    "\n",
    "\n",
    "def dataExchange(bng):\n",
    "    \"\"\"\n",
    "    Demonstrates how to transfer in game data to the python side.\n",
    "    \"\"\"\n",
    "    data = dict(type=\"GetListOfVehicleModels\")\n",
    "    response = bng.connection.send(data).recv(\"ListOfVehicleModels\")\n",
    "    print(\"List of spawned vehicle models: \", response[\"data\"])"
   ]
  },
  {
   "cell_type": "code",
   "execution_count": 8,
   "metadata": {
    "tags": []
   },
   "outputs": [],
   "source": [
    "callFoo(beamng)"
   ]
  },
  {
   "cell_type": "code",
   "execution_count": 9,
   "metadata": {
    "tags": []
   },
   "outputs": [],
   "source": [
    "callBar(etk)"
   ]
  },
  {
   "cell_type": "code",
   "execution_count": 10,
   "metadata": {
    "tags": []
   },
   "outputs": [
    {
     "name": "stdout",
     "output_type": "stream",
     "text": [
      "List of spawned vehicle models:  ['etk800', 'pickup']\n"
     ]
    }
   ],
   "source": [
    "dataExchange(beamng)"
   ]
  },
  {
   "cell_type": "markdown",
   "metadata": {},
   "source": [
    "### Don't see anything?\n",
    "\n",
    "If you have trouble finding the messages in the log file or command prompt, search for 'gameEngineCode' or 'vehicleEngineCode'. These are the log tags of the respective modules."
   ]
  },
  {
   "cell_type": "code",
   "execution_count": 11,
   "metadata": {
    "tags": []
   },
   "outputs": [
    {
     "name": "stderr",
     "output_type": "stream",
     "text": [
      "2025-03-27 10:45:31,263 |INFO     |beamngpy.BeamNGpy             |Closing BeamNGpy instance.\n",
      "2025-03-27 10:45:31,263 |INFO     |beamngpy.Vehicle              |Disconnected from vehicle some_vehicle and detached sensors.\n",
      "2025-03-27 10:45:31,264 |INFO     |beamngpy.Vehicle              |Disconnected from vehicle ego_vehicle and detached sensors.\n",
      "2025-03-27 10:45:31,264 |INFO     |beamngpy.BeamNGpy             |Terminating BeamNG.tech process.\n"
     ]
    }
   ],
   "source": [
    "beamng.close()"
   ]
  }
 ],
 "metadata": {
  "kernelspec": {
   "display_name": "beamng",
   "language": "python",
   "name": "beamng"
  },
  "language_info": {
   "codemirror_mode": {
    "name": "ipython",
    "version": 3
   },
   "file_extension": ".py",
   "mimetype": "text/x-python",
   "name": "python",
   "nbconvert_exporter": "python",
   "pygments_lexer": "ipython3",
   "version": "3.9.16"
  }
 },
 "nbformat": 4,
 "nbformat_minor": 4
}

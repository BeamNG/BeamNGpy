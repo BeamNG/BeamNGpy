{
 "cells": [
  {
   "cell_type": "markdown",
   "id": "d1a30695-34e1-4cdb-b066-f7ce39a1dce1",
   "metadata": {},
   "source": [
    "# Scenario Control\n",
    "*BeamNG.tech / BeamNG.drive*"
   ]
  },
  {
   "cell_type": "markdown",
   "id": "906dbb29-6dc9-4541-950f-00ebde5a6871",
   "metadata": {},
   "source": [
    "## Introduction\n",
    "\n",
    "This should serve as a guide on how to load and control scenarios, those ones that are included with the simulation, but also the custom scenarios made with BeamNGpy or BeamNG tools. Let's start by opening the BeamNG simulator."
   ]
  },
  {
   "cell_type": "code",
   "execution_count": 1,
   "id": "14bc04d9-d2d2-46a9-a827-033bc3d0c65a",
   "metadata": {
    "tags": []
   },
   "outputs": [
    {
     "data": {
      "text/plain": [
       "<beamngpy.beamng.beamng.BeamNGpy at 0x2365bfa5cd0>"
      ]
     },
     "execution_count": 1,
     "metadata": {},
     "output_type": "execute_result"
    }
   ],
   "source": [
    "from beamngpy import BeamNGpy, Scenario\n",
    "\n",
    "beamng = BeamNGpy('localhost', 64256)\n",
    "beamng.open()"
   ]
  },
  {
   "cell_type": "markdown",
   "id": "411461cf-1261-4420-bbb0-8e32dcb82817",
   "metadata": {},
   "source": [
    "Now, we will talk a little bit about scenario creation first for you to see which options you have if you want to create your own BeamNG scenario."
   ]
  },
  {
   "cell_type": "markdown",
   "id": "48bbde85-e0cb-466f-84fb-3496f3eea47e",
   "metadata": {},
   "source": [
    "## Scenario creation\n",
    "\n",
    "There are multiple ways how to create scenarios. The recommended ones are to use BeamNGpy, the [Flowgraph Editor](https://documentation.beamng.com/modding/flowgraph/introduction-to-flowgraph/examples/#general) included with BeamNG or the [Mission Editor](https://documentation.beamng.com/modding/gamemodes/missions/), also included with BeamNG. There are also scenarios written using the [legacy system](https://documentation.beamng.com/modding/gamemodes/scenario/), but this way of creation is deprecated and is not recommended for new scenarios.\n",
    "\n",
    "### BeamNGpy\n",
    "BeamNGpy supports creation of scenarios which include custom vehicles, roads, checkpoint definitions and more. All the other examples show you how to create BeamNGpy scenarios, see the [examples and the Example Guide](https://github.com/BeamNG/BeamNGpy/tree/master/examples#example-guide) included with BeamNGpy for more information.\n",
    "\n",
    "Scenarios created in BeamNGpy consists of:\n",
    " - `<scenario_name>.json`: scenario metadata\n",
    " - `<scenario_name>.prefab.json`: scenario objects\n",
    "\n",
    "These two files are written by BeamNGpy to the userfolder when calling the `Scenario.make` function.\n",
    "\n",
    "### Flowgraph Editor\n",
    "\n",
    "These are scenarios created inside the Flowgraph Editor, which is a powerful node-based scripting language that allows to create dynamic scenarios for BeamNG.drive without coding.\n",
    "\n",
    "To see an example of a Flowgraph scenario, you can open the `/levels/italy/scenarios/noFuel_v2/gravityFuel2.flow.json` file inside the Flowgraph editor.\n",
    "\n",
    "After completing your Flowgraph scenario, you can use the `File -> Save as Scenario...` option in the Flowgraph Editor to save a `.json` file including information about the scenario, which can then be loaded by BeamNGpy. There is also a `.flow.json` that included a definition of the graph, but only the metadata `.json` file can be used to load the scenario.\n",
    "\n",
    "To learn about Flowgraph, please consult the [Flowgraph documentation](https://documentation.beamng.com/modding/flowgraph/introduction-to-flowgraph/examples/#general).\n",
    "\n",
    "### Mission Editor\n",
    "With BeamNGpy, you are also able to load the missions created with the mission system. Use the [Missions documentation](https://documentation.beamng.com/modding/gamemodes/missions/) to learn about how to create missions inside BeamNG. There exist premade mission types, but you can also use custom Flowgraph code to provide more complex mission behavior.\n",
    "\n",
    "Missions are located in the `/gameplay/missions` folder. To load them with BeamNGpy, use the path to the `info.json` file, for example `/gameplay/missions/west_coast_usa/aiRace/002-highway/info.json`."
   ]
  },
  {
   "cell_type": "markdown",
   "id": "f6361439-7560-4257-8b9c-c839dc793172",
   "metadata": {},
   "source": [
    "## Scenario loading\n",
    "\n",
    "To load a scenario, you need to find the path to its definition. The `beamng.scenario.get_scenarios()` function will help you with that, it returns a list of all scenarios that can be loaded in BeamNG, that includes the built-in scenarios and missions, as well as all the custom scenarios made with either BeamNG or using the tools inside the simulator."
   ]
  },
  {
   "cell_type": "code",
   "execution_count": 2,
   "id": "d3428848-9aa3-4607-9be2-391dcc1df37f",
   "metadata": {
    "tags": []
   },
   "outputs": [
    {
     "data": {
      "text/plain": [
       "\u001b[1;31mSignature:\u001b[0m\n",
       "\u001b[0mbeamng\u001b[0m\u001b[1;33m.\u001b[0m\u001b[0mscenario\u001b[0m\u001b[1;33m.\u001b[0m\u001b[0mget_scenarios\u001b[0m\u001b[1;33m(\u001b[0m\u001b[1;33m\n",
       "\u001b[0m    \u001b[0mlevels\u001b[0m\u001b[1;33m:\u001b[0m \u001b[1;34m'Iterable[str | Level] | None'\u001b[0m \u001b[1;33m=\u001b[0m \u001b[1;32mNone\u001b[0m\u001b[1;33m,\u001b[0m\u001b[1;33m\n",
       "\u001b[0m\u001b[1;33m)\u001b[0m \u001b[1;33m->\u001b[0m \u001b[1;34m'Dict[str, List[Scenario]]'\u001b[0m\u001b[1;33m\u001b[0m\u001b[1;33m\u001b[0m\u001b[0m\n",
       "\u001b[1;31mDocstring:\u001b[0m\n",
       "Queries the available scenarios and returns them as a mapping of\n",
       "paths to :class:`.Scenario` instances. The scenarios are constructed\n",
       "to point to their parent levels, so to avoid extra queries to the\n",
       "simulator about existing levels, a cache of available levels can be\n",
       "passed to this method. If a partial list of levels is supplied, then\n",
       "only scenarios for these levels will be queried and returned.\n",
       "\n",
       "Args:\n",
       "    levels: A list of level names or :class:`.Level` instances to get scenarios\n",
       "            for. If None, scenarios from all levels will be returned.\n",
       "\n",
       "Returns:\n",
       "    A mapping of level names to lists of :class:`.Scenario` instances.\n",
       "\u001b[1;31mFile:\u001b[0m      c:\\dev\\beamngpy\\src\\beamngpy\\api\\beamng\\scenario.py\n",
       "\u001b[1;31mType:\u001b[0m      method"
      ]
     },
     "metadata": {},
     "output_type": "display_data"
    }
   ],
   "source": [
    "?beamng.scenario.get_scenarios"
   ]
  },
  {
   "cell_type": "code",
   "execution_count": 3,
   "id": "135c45f7-0af8-4376-9ae9-4611c24e5f70",
   "metadata": {
    "tags": []
   },
   "outputs": [
    {
     "name": "stdout",
     "output_type": "stream",
     "text": [
      "dict_keys(['johnson_valley', 'jungle_rock_island', 'gridmap_v2', 'small_island', 'derby', 'east_coast_usa', 'west_coast_usa', 'italy', 'Industrial', 'driver_training', 'Utah', 'Cliff', 'automation_test_track'])\n"
     ]
    }
   ],
   "source": [
    "scenarios = beamng.scenario.get_scenarios()\n",
    "print(scenarios.keys())"
   ]
  },
  {
   "cell_type": "markdown",
   "id": "188bfc32-6aff-47fb-8b6f-64f0c9304b92",
   "metadata": {},
   "source": [
    "Let's check some of the scenarios that are happening on the 'West Coast USA' map."
   ]
  },
  {
   "cell_type": "code",
   "execution_count": 4,
   "id": "77b06317-c240-4efc-a0bb-52c8c3d38ae1",
   "metadata": {
    "tags": []
   },
   "outputs": [
    {
     "name": "stdout",
     "output_type": "stream",
     "text": [
      "There are 16 West Coast USA scenarios that can be loaded.\n"
     ]
    },
    {
     "data": {
      "text/plain": [
       "[<Scenario(level='west_coast_usa', name='Highway Loop 1', path='/gameplay/missions/west_coast_usa/aiRace/002-highway/info.json')>,\n",
       " <Scenario(level='west_coast_usa', name='Quarry: Triple Threat', path='/gameplay/missions/west_coast_usa/timeTrial/021-Quarry4/info.json')>,\n",
       " <Scenario(level='west_coast_usa', name='Garage to Garage Delivery: West Coast USA', path='/gameplay/missions/west_coast_usa/garageToGarage/001-Downtown_Belasco/info.json')>,\n",
       " <Scenario(level='west_coast_usa', name='A Flock Of Pigeons', path='/gameplay/missions/west_coast_usa/cannon/001-Pigeons/info.json')>,\n",
       " <Scenario(level='west_coast_usa', name='Mountain Race', path='/levels/west_coast_usa/scenarios/mountain_race.json')>,\n",
       " <Scenario(level='west_coast_usa', name='Autobello Piccolina showcase', path='/levels/west_coast_usa/scenarios/wcaAutobelloShowcase.json')>,\n",
       " <Scenario(level='west_coast_usa', name='Action Chase', path='/levels/west_coast_usa/scenarios/busdriver_stunt/busdriver_stunt_crush.json')>,\n",
       " <Scenario(level='west_coast_usa', name='Asphalt Derby Race', path='/levels/west_coast_usa/scenarios/derby_asphalt.json')>,\n",
       " <Scenario(level='west_coast_usa', name='Stunt 2: Jump', path='/levels/west_coast_usa/scenarios/busdriver_stunt/busdriver_stunt_jump.json')>,\n",
       " <Scenario(level='west_coast_usa', name='Carnage Course', path='/levels/west_coast_usa/scenarios/busdriver_stunt/busdriver_stunt_course.json')>]"
      ]
     },
     "execution_count": 4,
     "metadata": {},
     "output_type": "execute_result"
    }
   ],
   "source": [
    "west_coast_scenarios = scenarios['west_coast_usa']\n",
    "print(f'There are {len(west_coast_scenarios)} West Coast USA scenarios that can be loaded.')\n",
    "west_coast_scenarios[:10]"
   ]
  },
  {
   "cell_type": "markdown",
   "id": "60e42cb4-c46d-48b4-8b50-48a453a874de",
   "metadata": {},
   "source": [
    "The `get_scenarios()` function returns instances of the `Scenario`, so you can use the returned values as an argument to the `beamng.scenario.load` function. You can also create a new instance of the `Scenario` class with the same parameters, if that is more convenient for you."
   ]
  },
  {
   "cell_type": "code",
   "execution_count": 5,
   "id": "034b2e0c-21c0-4496-bdb5-1db437e40ecc",
   "metadata": {
    "tags": []
   },
   "outputs": [
    {
     "data": {
      "text/plain": [
       "\u001b[1;31mSignature:\u001b[0m\n",
       "\u001b[0mbeamng\u001b[0m\u001b[1;33m.\u001b[0m\u001b[0mscenario\u001b[0m\u001b[1;33m.\u001b[0m\u001b[0mload\u001b[0m\u001b[1;33m(\u001b[0m\u001b[1;33m\n",
       "\u001b[0m    \u001b[0mscenario\u001b[0m\u001b[1;33m:\u001b[0m \u001b[1;34m'Scenario'\u001b[0m\u001b[1;33m,\u001b[0m\u001b[1;33m\n",
       "\u001b[0m    \u001b[0mprecompile_shaders\u001b[0m\u001b[1;33m:\u001b[0m \u001b[1;34m'bool'\u001b[0m \u001b[1;33m=\u001b[0m \u001b[1;32mTrue\u001b[0m\u001b[1;33m,\u001b[0m\u001b[1;33m\n",
       "\u001b[0m    \u001b[0mconnect_player_vehicle\u001b[0m\u001b[1;33m:\u001b[0m \u001b[1;34m'bool'\u001b[0m \u001b[1;33m=\u001b[0m \u001b[1;32mTrue\u001b[0m\u001b[1;33m,\u001b[0m\u001b[1;33m\n",
       "\u001b[0m    \u001b[0mconnect_existing_vehicles\u001b[0m\u001b[1;33m:\u001b[0m \u001b[1;34m'bool'\u001b[0m \u001b[1;33m=\u001b[0m \u001b[1;32mTrue\u001b[0m\u001b[1;33m,\u001b[0m\u001b[1;33m\n",
       "\u001b[0m\u001b[1;33m)\u001b[0m \u001b[1;33m->\u001b[0m \u001b[1;34m'None'\u001b[0m\u001b[1;33m\u001b[0m\u001b[1;33m\u001b[0m\u001b[0m\n",
       "\u001b[1;31mDocstring:\u001b[0m\n",
       "Loads the given scenario in the simulation and returns once loading\n",
       "is finished.\n",
       "\n",
       "Args:\n",
       "    scenario: The scenario to load.\n",
       "    precompile_shaders: Whether the shaders should be compiled before the start of the scenario.\n",
       "                        If False, the first load of a map will take a longer time, but disabling\n",
       "                        the precompilation can lead to issues with the :class:`Camera` sensor.\n",
       "                        Defaults to True.\n",
       "    connect_player_vehicle: Whether the player vehicle should be connected\n",
       "                            to this (:class:``.Scenario``) instance. Defaults to True.\n",
       "    connect_existing_vehicles: Whether ALL vehicles spawned already in the scenario should be connected\n",
       "                               to this (:class:``.Scenario``) instance. Defaults to True.\n",
       "\u001b[1;31mFile:\u001b[0m      c:\\dev\\beamngpy\\src\\beamngpy\\api\\beamng\\scenario.py\n",
       "\u001b[1;31mType:\u001b[0m      method"
      ]
     },
     "metadata": {},
     "output_type": "display_data"
    }
   ],
   "source": [
    "?beamng.scenario.load"
   ]
  },
  {
   "cell_type": "markdown",
   "id": "34ed7a05-181a-43d2-9294-059e7fef2089",
   "metadata": {},
   "source": [
    "## BeamNGpy / Legacy scenarios\n",
    "\n",
    "Legacy scenarios are defined by their corresponding `.json` file. You can get the paths to the existing scenarios with the `beamng.scenario.get_scenarios()` function, discussed in the [Scenario Loading](#Scenario-loading) section.\n",
    "\n",
    "You are also able to run any scenario created before with `Scenario.make`, as it uses the same format (discussed in the [Scenario Creation](#Scenario-creation) section)."
   ]
  },
  {
   "cell_type": "code",
   "execution_count": 6,
   "id": "fb93709b-f750-405a-b335-44d6314513c2",
   "metadata": {
    "tags": []
   },
   "outputs": [
    {
     "data": {
      "text/plain": [
       "\u001b[1;31mSignature:\u001b[0m \u001b[0mScenario\u001b[0m\u001b[1;33m.\u001b[0m\u001b[0mmake\u001b[0m\u001b[1;33m(\u001b[0m\u001b[0mself\u001b[0m\u001b[1;33m,\u001b[0m \u001b[0mbng\u001b[0m\u001b[1;33m:\u001b[0m \u001b[1;34m'BeamNGpy'\u001b[0m\u001b[1;33m)\u001b[0m \u001b[1;33m->\u001b[0m \u001b[1;34m'None'\u001b[0m\u001b[1;33m\u001b[0m\u001b[1;33m\u001b[0m\u001b[0m\n",
       "\u001b[1;31mDocstring:\u001b[0m\n",
       "Generates necessary files to describe the scenario in the simulation\n",
       "and outputs them to the simulator.\n",
       "\n",
       "Args:\n",
       "    bng: The BeamNGpy instance to generate the scenario for.\n",
       "\n",
       "Raises:\n",
       "    BNGError: If the scenario already has set its info .json file included.\n",
       "\u001b[1;31mFile:\u001b[0m      c:\\dev\\beamngpy\\src\\beamngpy\\scenario\\scenario.py\n",
       "\u001b[1;31mType:\u001b[0m      function"
      ]
     },
     "metadata": {},
     "output_type": "display_data"
    }
   ],
   "source": [
    "?Scenario.make"
   ]
  },
  {
   "cell_type": "code",
   "execution_count": 7,
   "id": "c5cd69a6-99d1-4a4b-95d9-ac4e89ee0a1e",
   "metadata": {
    "tags": []
   },
   "outputs": [],
   "source": [
    "scenario = Scenario(level='west_coast_usa', name='Mountain Race', path='/levels/west_coast_usa/scenarios/mountain_race.json')\n",
    "beamng.scenario.load(scenario)"
   ]
  },
  {
   "cell_type": "markdown",
   "id": "960bdd48-ff77-4502-80b8-f65d8f3eca9a",
   "metadata": {},
   "source": [
    "The `beamng.scenario.load` function automatically loads the vehicles, which are currently part of the scenario, and stores them to the `scenario.vehicles` dictionary, where keys are the IDs of the vehicles."
   ]
  },
  {
   "cell_type": "code",
   "execution_count": 8,
   "id": "b409de09-eb45-4166-931d-482d23c34963",
   "metadata": {
    "tags": []
   },
   "outputs": [
    {
     "data": {
      "text/plain": [
       "{'scenario_player0': <beamngpy.vehicle.vehicle.Vehicle at 0x2365d7b9400>,\n",
       " 'scenario_opponent': <beamngpy.vehicle.vehicle.Vehicle at 0x2365d7b9a90>}"
      ]
     },
     "execution_count": 8,
     "metadata": {},
     "output_type": "execute_result"
    }
   ],
   "source": [
    "vehicles = scenario.vehicles\n",
    "vehicles"
   ]
  },
  {
   "cell_type": "markdown",
   "id": "81944316-427b-4a21-9f16-9b96e34c345c",
   "metadata": {},
   "source": [
    "As the `connect_existing_vehicles` parameter is set to `True` by default, the vehicles are connected to BeamNGpy after loading the scenario. To not connect them automatically, you can set the `connect_player_vehicle` and `connect_existing_vehicles` arguments in `beamng.scenario.load` to `False`."
   ]
  },
  {
   "cell_type": "code",
   "execution_count": 9,
   "id": "5b7744d2-5057-49a4-9fce-52b41452917b",
   "metadata": {
    "tags": []
   },
   "outputs": [],
   "source": [
    "player, opponent = vehicles['scenario_player0'], vehicles['scenario_opponent']\n",
    "assert player.is_connected() and opponent.is_connected(), \"Vehicles not connected!\""
   ]
  },
  {
   "cell_type": "markdown",
   "id": "6404e25d-6ca8-4d8e-8b5b-d411960f33ca",
   "metadata": {},
   "source": [
    "And the scenario is ready to start!"
   ]
  },
  {
   "cell_type": "code",
   "execution_count": 10,
   "id": "9ac3c4c0-6b07-4192-9e47-66cc99301597",
   "metadata": {
    "tags": []
   },
   "outputs": [],
   "source": [
    "beamng.scenario.start()\n",
    "player.control(throttle=1.0)"
   ]
  },
  {
   "cell_type": "markdown",
   "id": "55850fc9-247f-4cc2-951c-acc41f59bb5d",
   "metadata": {},
   "source": [
    "### Flowgraph scenarios\n",
    "\n",
    "Flowgraph scenarios are defined by their `.json` and `.flow.json` files. You can get the paths to the existing scenarios with the `beamng.scenario.get_scenarios()` function, discussed in the [Scenario Loading](#Scenario-loading) section."
   ]
  },
  {
   "cell_type": "code",
   "execution_count": 11,
   "id": "0741aff2-18ac-4184-8374-58b58a714721",
   "metadata": {
    "tags": []
   },
   "outputs": [],
   "source": [
    "scenario = Scenario(level='italy', name='Gravity Fuel', path='/levels/italy/scenarios/noFuel_v2/gravityFuel.json')\n",
    "beamng.scenario.load(scenario)"
   ]
  },
  {
   "cell_type": "code",
   "execution_count": 12,
   "id": "afe5d251-7b5e-4a61-a3ff-8e39376bdc9f",
   "metadata": {
    "tags": []
   },
   "outputs": [
    {
     "data": {
      "text/plain": [
       "{'object_1': <beamngpy.vehicle.vehicle.Vehicle at 0x2365bf90d00>,\n",
       " 'trailer': <beamngpy.vehicle.vehicle.Vehicle at 0x2365d7a91c0>,\n",
       " 'object_64657': <beamngpy.vehicle.vehicle.Vehicle at 0x2365d7b96a0>}"
      ]
     },
     "execution_count": 12,
     "metadata": {},
     "output_type": "execute_result"
    }
   ],
   "source": [
    "vehicles = scenario.vehicles\n",
    "vehicles"
   ]
  },
  {
   "cell_type": "markdown",
   "id": "7b576221-dfe2-4d3d-ad23-d8b40e4e508f",
   "metadata": {},
   "source": [
    "In this scenario, the name of the player vehicle is changing every load, as it was not assigned in the Flowgraph scenario. You can get the player vehicle ID dynamically, and then find it in the vehicles dictionary."
   ]
  },
  {
   "cell_type": "code",
   "execution_count": 13,
   "id": "2d31776d-f6e6-46a7-88a4-1fda94ee32d2",
   "metadata": {
    "tags": []
   },
   "outputs": [],
   "source": [
    "player_vid = beamng.vehicles.get_player_vehicle_id()['vid']\n",
    "player = vehicles[player_vid]"
   ]
  },
  {
   "cell_type": "code",
   "execution_count": 14,
   "id": "b17d380d-fb6e-436f-939c-34916538c8fb",
   "metadata": {
    "tags": []
   },
   "outputs": [],
   "source": [
    "beamng.scenario.start()\n",
    "player.control(steering=0.2)"
   ]
  },
  {
   "cell_type": "markdown",
   "id": "1fceb812-9f0f-4211-9bb9-c4b680581fdb",
   "metadata": {},
   "source": [
    "### Missions\n",
    "\n",
    "Missions are defined by their `info.json` files, which are always located in `/gameplay/missions`. You can get the paths to the existing scenarios with the `beamng.scenario.get_scenarios()` function, discussed in the [Scenario Loading](#Scenario-loading) section."
   ]
  },
  {
   "cell_type": "code",
   "execution_count": 15,
   "id": "b7576010-7535-4591-b08e-0bb7d2df24aa",
   "metadata": {
    "tags": []
   },
   "outputs": [],
   "source": [
    "scenario = Scenario(level='east_coast_usa', name='Taken Treasure', path='/gameplay/missions/east_coast_usa/evade/001-Taken/info.json')\n",
    "beamng.scenario.load(scenario)"
   ]
  },
  {
   "cell_type": "code",
   "execution_count": 16,
   "id": "e4dfaa6e-3565-47f1-9f57-d64172b3638b",
   "metadata": {
    "tags": []
   },
   "outputs": [
    {
     "data": {
      "text/plain": [
       "{'clone': <beamngpy.vehicle.vehicle.Vehicle at 0x2365beef1f0>}"
      ]
     },
     "execution_count": 16,
     "metadata": {},
     "output_type": "execute_result"
    }
   ],
   "source": [
    "vehicles = scenario.vehicles\n",
    "vehicles"
   ]
  },
  {
   "cell_type": "code",
   "execution_count": 17,
   "id": "780a3c0f-ea47-4a8c-ac2d-489ca9a3505d",
   "metadata": {
    "tags": []
   },
   "outputs": [],
   "source": [
    "player = vehicles['clone']"
   ]
  },
  {
   "cell_type": "code",
   "execution_count": 18,
   "id": "4eb929b2-e085-4f75-bdc4-0040296dc856",
   "metadata": {
    "tags": []
   },
   "outputs": [],
   "source": [
    "beamng.scenario.start()\n",
    "player.ai.set_mode('span')\n",
    "player.ai.set_speed(80 / 3.6)"
   ]
  },
  {
   "cell_type": "markdown",
   "id": "3ec4cc22-32fd-4ee4-99e6-6ccd1cd86428",
   "metadata": {},
   "source": [
    "### Where next"
   ]
  },
  {
   "cell_type": "markdown",
   "id": "506acb22-16eb-468f-a3ad-e0015084aa38",
   "metadata": {},
   "source": [
    "And this is the end of the scenario control guide. If you want to see more examples, please follow the [example guide](https://github.com/BeamNG/BeamNGpy/blob/master/examples/README.md)."
   ]
  }
 ],
 "metadata": {},
 "nbformat": 4,
 "nbformat_minor": 5
}

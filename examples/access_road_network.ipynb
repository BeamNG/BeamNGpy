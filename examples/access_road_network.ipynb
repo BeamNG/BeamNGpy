{
 "cells": [
  {
   "cell_type": "markdown",
   "metadata": {},
   "source": [
    "# Overview\n",
    "*BeamNG.tech / BeamNG.drive*\n",
    "\n",
    "The purpose of this example is to give our users a better understanding of how the roadnetwork is represented in BeamNG.\n",
    "To do so we screate a scenario using the West Coast USA level, extract all geographic road data, and plot it."
   ]
  },
  {
   "cell_type": "markdown",
   "metadata": {},
   "source": [
    "## Setup\n",
    "\n",
    "This example relies on different classes from the beamngpy module, the external library shapely, and matplotlib. \n",
    "\n"
   ]
  },
  {
   "cell_type": "code",
   "execution_count": 1,
   "metadata": {},
   "outputs": [],
   "source": [
    "from beamngpy import BeamNGpy, Scenario, Vehicle\n",
    "from matplotlib import pyplot as plt\n",
    "from shapely.geometry import MultiLineString"
   ]
  },
  {
   "cell_type": "markdown",
   "metadata": {},
   "source": [
    "## Scenario Creation\n",
    "\n",
    "A simple scenario is created in order to access the geographic data from the game.\n"
   ]
  },
  {
   "cell_type": "code",
   "execution_count": 2,
   "metadata": {
    "tags": []
   },
   "outputs": [],
   "source": [
    "beamng = BeamNGpy('localhost', 64256)\n",
    "beamng.open()\n",
    "\n",
    "scenario = Scenario('west_coast_usa', 'road_map_example')\n",
    "orig = (568.908386, 13.4217358, 148.56546)\n",
    "\n",
    "vehicle = Vehicle('ego_vehicle', model='pickup', license='PYTHON')\n",
    "scenario.add_vehicle(vehicle, pos=orig)\n",
    "\n",
    "scenario.make(beamng)"
   ]
  },
  {
   "cell_type": "markdown",
   "metadata": {},
   "source": [
    "## Running the Scenario\n",
    "\n",
    "With the scenario created, we finally start the simulator and load our created scenario. The scenario simulation does not start immediately after loading, but only when the user triggers the start using start_scenario()."
   ]
  },
  {
   "cell_type": "code",
   "execution_count": 3,
   "metadata": {},
   "outputs": [],
   "source": [
    "beamng.scenario.load(scenario)\n",
    "beamng.scenario.start()"
   ]
  },
  {
   "cell_type": "markdown",
   "metadata": {},
   "source": [
    "## Fetching and Plotting the Road's Data\n",
    "\n",
    "At first we get the road's data. As we are only interested in their id's we discard any other information.\n",
    "Every ID refers to one road. One road defined by a list of N nodes.\n",
    "One such node is a triplet of xyz coordinates: ((x1, y1, z1), (x3, y3, z3), (x3, y3, z3)). This list of coordinates defines the leftmost, middle and rightmost point of such a node.\n",
    "\n",
    "Because the goal is to plot a simple map of the level, we only use the left and right coordinate of every node and disregard the y dimension of every coordinate.\n",
    "Some of the DecalRoads are used to render cracks etc. They are not needed to plot a map of the level, so we exclude them by checking the 'drivability' property."
   ]
  },
  {
   "cell_type": "code",
   "execution_count": 4,
   "metadata": {
    "tags": []
   },
   "outputs": [],
   "source": [
    "# fetch road data from the game\n",
    "roads = beamng.scenario.get_roads()\n",
    "road_names = list(roads.keys())\n",
    "road_spec = {}\n",
    "for r_id, r_inf in roads.items():\n",
    "    if r_inf['drivability'] != '-1':\n",
    "        road_spec[r_id] = beamng.scenario.get_road_edges(r_id)"
   ]
  },
  {
   "cell_type": "code",
   "execution_count": 5,
   "metadata": {
    "tags": []
   },
   "outputs": [],
   "source": [
    "# put data into shapely MultilineString\n",
    "road = list()\n",
    "lines = list()\n",
    "for r_id in road_spec.keys():\n",
    "    left = list()\n",
    "    right = list()\n",
    "    for r_point in road_spec[r_id]:\n",
    "        x = r_point['left'][0]\n",
    "        y = r_point['left'][1]\n",
    "        left.append((x, y))\n",
    "        x = r_point['right'][0]\n",
    "        y = r_point['right'][1]\n",
    "        right.append((x, y))\n",
    "    if left:\n",
    "        lines.append(tuple(left))\n",
    "    if right:\n",
    "        lines.append(tuple(right))\n",
    "\n",
    "network = MultiLineString(lines)"
   ]
  },
  {
   "cell_type": "code",
   "execution_count": 6,
   "metadata": {},
   "outputs": [
    {
     "data": {
        "text/html": "<img src='../media/road_network.png'>",
        "text/plain": [
        "<Figure size 960x960 with 1 Axes>"
        ]
     },
     "metadata": {
      "needs_background": "light"
     },
     "output_type": "display_data"
    }
   ],
   "source": [
    "# plot map\n",
    "def plot_lines(ax, ob):\n",
    "    blue = '#6699cc'\n",
    "    for line in ob.geoms:\n",
    "        x, y = line.xy\n",
    "        ax.plot(x, y, color=blue, linewidth=1,\n",
    "                solid_capstyle='round', zorder=2, alpha=0.7)\n",
    "\n",
    "fig = plt.figure(1, figsize=[9.6, 9.6], dpi=100)\n",
    "\n",
    "ax = fig.add_subplot()\n",
    "plot_lines(ax, network)\n",
    "\n",
    "_ = ax.set_axis_off()\n",
    "_ = ax.set_title('road network West Coast, USA')\n",
    "plt.savefig('leftright.png')"
   ]
  },
  {
   "cell_type": "code",
   "execution_count": null,
   "metadata": {},
   "outputs": [],
   "source": []
  }
 ],
 "metadata": {},
 "nbformat": 4,
 "nbformat_minor": 4
}
